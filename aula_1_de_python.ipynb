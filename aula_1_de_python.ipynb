{
  "nbformat": 4,
  "nbformat_minor": 0,
  "metadata": {
    "colab": {
      "name": "aula 1 de python",
      "provenance": [],
      "collapsed_sections": [],
      "authorship_tag": "ABX9TyN+eU6lnlSurMl4q0vQd5Cg",
      "include_colab_link": true
    },
    "kernelspec": {
      "name": "python3",
      "display_name": "Python 3"
    },
    "language_info": {
      "name": "python"
    }
  },
  "cells": [
    {
      "cell_type": "markdown",
      "metadata": {
        "id": "view-in-github",
        "colab_type": "text"
      },
      "source": [
        "<a href=\"https://colab.research.google.com/github/GabeDuarte/aula/blob/main/aula_1_de_python.ipynb\" target=\"_parent\"><img src=\"https://colab.research.google.com/assets/colab-badge.svg\" alt=\"Open In Colab\"/></a>"
      ]
    },
    {
      "cell_type": "markdown",
      "metadata": {
        "id": "hNoNDuUzEPha"
      },
      "source": [
        "# comando print()\n"
      ]
    },
    {
      "cell_type": "code",
      "metadata": {
        "colab": {
          "base_uri": "https://localhost:8080/"
        },
        "id": "AS9P93DCDZrk",
        "outputId": "5015f634-5531-4dbe-a3f9-662463b36be0"
      },
      "source": [
        "print ('Olá Mundo!!!')"
      ],
      "execution_count": 10,
      "outputs": [
        {
          "output_type": "stream",
          "text": [
            "Olá Mundo!!!\n"
          ],
          "name": "stdout"
        }
      ]
    },
    {
      "cell_type": "code",
      "metadata": {
        "colab": {
          "base_uri": "https://localhost:8080/"
        },
        "id": "OGOqKu8ZG92p",
        "outputId": "4b2ec602-39d0-4c9e-8341-9afb62fc238a"
      },
      "source": [
        "print (\"Palmeiras NÃO TEM mundial!\")"
      ],
      "execution_count": 12,
      "outputs": [
        {
          "output_type": "stream",
          "text": [
            "Palmeiras NÃO TEM mundial!\n"
          ],
          "name": "stdout"
        }
      ]
    },
    {
      "cell_type": "code",
      "metadata": {
        "colab": {
          "base_uri": "https://localhost:8080/"
        },
        "id": "jVAlGhfDHZHe",
        "outputId": "05ddd11a-bb7b-48ec-dacf-217246603c95"
      },
      "source": [
        "print(8+29)"
      ],
      "execution_count": 18,
      "outputs": [
        {
          "output_type": "stream",
          "text": [
            "37\n"
          ],
          "name": "stdout"
        }
      ]
    },
    {
      "cell_type": "code",
      "metadata": {
        "colab": {
          "base_uri": "https://localhost:8080/"
        },
        "id": "wF-B-m7EH8CH",
        "outputId": "d1e673b1-c26f-4936-e772-54f05a2547dd"
      },
      "source": [
        "print(\"8\"+\"29\")"
      ],
      "execution_count": 17,
      "outputs": [
        {
          "output_type": "stream",
          "text": [
            "829\n"
          ],
          "name": "stdout"
        }
      ]
    },
    {
      "cell_type": "code",
      "metadata": {
        "colab": {
          "base_uri": "https://localhost:8080/"
        },
        "id": "-hO3BONJIhox",
        "outputId": "253ee3be-5484-44c4-9d1d-747758cefb67"
      },
      "source": [
        "print(7*4)"
      ],
      "execution_count": 21,
      "outputs": [
        {
          "output_type": "stream",
          "text": [
            "28\n"
          ],
          "name": "stdout"
        }
      ]
    },
    {
      "cell_type": "code",
      "metadata": {
        "colab": {
          "base_uri": "https://localhost:8080/"
        },
        "id": "0eXHow1PJSHL",
        "outputId": "e4963dd4-4905-42f7-a766-6217679fedbf"
      },
      "source": [
        "print(3*7)\n",
        "print(3*2)"
      ],
      "execution_count": 28,
      "outputs": [
        {
          "output_type": "stream",
          "text": [
            "21\n",
            "6\n"
          ],
          "name": "stdout"
        }
      ]
    },
    {
      "cell_type": "code",
      "metadata": {
        "colab": {
          "base_uri": "https://localhost:8080/"
        },
        "id": "z2ebTDwWJ-G2",
        "outputId": "2cfdecc9-8c57-4730-dbdd-037d74ae87e4"
      },
      "source": [
        "print(3**2)"
      ],
      "execution_count": 31,
      "outputs": [
        {
          "output_type": "stream",
          "text": [
            "9\n"
          ],
          "name": "stdout"
        }
      ]
    },
    {
      "cell_type": "code",
      "metadata": {
        "colab": {
          "base_uri": "https://localhost:8080/"
        },
        "id": "_4VpPjLKKSAU",
        "outputId": "09c0c328-8190-4ac8-b1a1-f8480ce0b0a7"
      },
      "source": [
        "print(4**4)"
      ],
      "execution_count": 32,
      "outputs": [
        {
          "output_type": "stream",
          "text": [
            "256\n"
          ],
          "name": "stdout"
        }
      ]
    },
    {
      "cell_type": "code",
      "metadata": {
        "colab": {
          "base_uri": "https://localhost:8080/"
        },
        "id": "cFxBtlytK4o-",
        "outputId": "feec470a-e8fe-41dc-cbae-a19ecb7b0052"
      },
      "source": [
        "print(10%3)"
      ],
      "execution_count": 35,
      "outputs": [
        {
          "output_type": "stream",
          "text": [
            "1\n"
          ],
          "name": "stdout"
        }
      ]
    },
    {
      "cell_type": "code",
      "metadata": {
        "colab": {
          "base_uri": "https://localhost:8080/"
        },
        "id": "3GHWo4bnK_Fq",
        "outputId": "25376a97-b7d8-4bf9-bc76-1bc18a3e7626"
      },
      "source": [
        "print(4//3)"
      ],
      "execution_count": 36,
      "outputs": [
        {
          "output_type": "stream",
          "text": [
            "1\n"
          ],
          "name": "stdout"
        }
      ]
    },
    {
      "cell_type": "code",
      "metadata": {
        "colab": {
          "base_uri": "https://localhost:8080/"
        },
        "id": "0KECKDf4LejK",
        "outputId": "a6ef4f97-4f37-4fac-b79b-aab73175deb5"
      },
      "source": [
        "print(12/4)"
      ],
      "execution_count": 37,
      "outputs": [
        {
          "output_type": "stream",
          "text": [
            "3.0\n"
          ],
          "name": "stdout"
        }
      ]
    },
    {
      "cell_type": "code",
      "metadata": {
        "colab": {
          "base_uri": "https://localhost:8080/"
        },
        "id": "ShduNHsGLlzm",
        "outputId": "a66a9f9e-9e0e-4ef8-c6ff-1fc2fad11bb2"
      },
      "source": [
        "print(24//7)"
      ],
      "execution_count": 38,
      "outputs": [
        {
          "output_type": "stream",
          "text": [
            "3\n"
          ],
          "name": "stdout"
        }
      ]
    },
    {
      "cell_type": "code",
      "metadata": {
        "colab": {
          "base_uri": "https://localhost:8080/"
        },
        "id": "B2HHhS_4L323",
        "outputId": "02341c74-9db5-4c4c-8149-25eeca13e421"
      },
      "source": [
        "print(17/3)"
      ],
      "execution_count": 39,
      "outputs": [
        {
          "output_type": "stream",
          "text": [
            "5.666666666666667\n"
          ],
          "name": "stdout"
        }
      ]
    },
    {
      "cell_type": "code",
      "metadata": {
        "colab": {
          "base_uri": "https://localhost:8080/"
        },
        "id": "RenOWEssL9-u",
        "outputId": "63c8255d-8adf-4482-b8d9-0237dc81c99b"
      },
      "source": [
        "print(17//3)"
      ],
      "execution_count": 40,
      "outputs": [
        {
          "output_type": "stream",
          "text": [
            "5\n"
          ],
          "name": "stdout"
        }
      ]
    },
    {
      "cell_type": "code",
      "metadata": {
        "colab": {
          "base_uri": "https://localhost:8080/"
        },
        "id": "IvGZS1XHMEzG",
        "outputId": "d3972b76-733c-42c6-9b6b-ed94853cc0cc"
      },
      "source": [
        "a = 3\n",
        "b = 2 \n",
        "print (a+b)\n",
        "print (a-b)\n",
        "print (a*b)\n",
        "print (a/b)\n",
        "print(a//b)\n",
        "print (a%b)\n"
      ],
      "execution_count": 44,
      "outputs": [
        {
          "output_type": "stream",
          "text": [
            "5\n",
            "1\n",
            "6\n",
            "1.5\n",
            "1\n",
            "1\n"
          ],
          "name": "stdout"
        }
      ]
    },
    {
      "cell_type": "code",
      "metadata": {
        "colab": {
          "base_uri": "https://localhost:8080/"
        },
        "id": "BLpM7hA4NY-y",
        "outputId": "49042580-bb78-4505-81dd-b559b44a7d4f"
      },
      "source": [
        "soma = 4 + 25\n",
        "subtracao = 14 - 3 \n",
        "multiplicacao = 10 * 5\n",
        "divisao = 11 / 2\n",
        "\n",
        "\n",
        "print (soma)\n",
        "print (subtracao)\n",
        "print (multiplicacao)\n",
        "print ( divisao)\n"
      ],
      "execution_count": 45,
      "outputs": [
        {
          "output_type": "stream",
          "text": [
            "29\n",
            "11\n",
            "50\n",
            "5.5\n"
          ],
          "name": "stdout"
        }
      ]
    },
    {
      "cell_type": "code",
      "metadata": {
        "colab": {
          "base_uri": "https://localhost:8080/"
        },
        "id": "BlPFXTS2ODna",
        "outputId": "f327a24f-03c7-4c45-8c27-bc47a5b25b6d"
      },
      "source": [
        "print (2 > 3)\n",
        "print (2 < 3)\n",
        "print (2 <= 5)\n"
      ],
      "execution_count": 48,
      "outputs": [
        {
          "output_type": "stream",
          "text": [
            "False\n",
            "True\n",
            "True\n"
          ],
          "name": "stdout"
        }
      ]
    },
    {
      "cell_type": "code",
      "metadata": {
        "colab": {
          "base_uri": "https://localhost:8080/"
        },
        "id": "tpyAeDGlPL-R",
        "outputId": "97b2a1fe-4f9b-487b-b8c4-8a683b0409dc"
      },
      "source": [
        "print (3 != 5)"
      ],
      "execution_count": 49,
      "outputs": [
        {
          "output_type": "stream",
          "text": [
            "True\n"
          ],
          "name": "stdout"
        }
      ]
    },
    {
      "cell_type": "code",
      "metadata": {
        "colab": {
          "base_uri": "https://localhost:8080/"
        },
        "id": "foKqzSLiPYmi",
        "outputId": "a0593c05-0395-42b0-eea2-019768b3da5a"
      },
      "source": [
        "a = 5\n",
        "print (a ==5)\n",
        "print (a ==4)\n",
        "print (a)\n"
      ],
      "execution_count": 52,
      "outputs": [
        {
          "output_type": "stream",
          "text": [
            "True\n",
            "False\n",
            "5\n"
          ],
          "name": "stdout"
        }
      ]
    },
    {
      "cell_type": "code",
      "metadata": {
        "colab": {
          "base_uri": "https://localhost:8080/"
        },
        "id": "7oU5PgZmQGyX",
        "outputId": "ef64a42a-3cfc-4d48-8e0c-647f35238152"
      },
      "source": [
        "print (\"GUSTAVO\" == \"gustavo\")"
      ],
      "execution_count": 53,
      "outputs": [
        {
          "output_type": "stream",
          "text": [
            "False\n"
          ],
          "name": "stdout"
        }
      ]
    },
    {
      "cell_type": "markdown",
      "metadata": {
        "id": "uNmmEYEIU4Ta"
      },
      "source": [
        "# variaveis\n"
      ]
    },
    {
      "cell_type": "code",
      "metadata": {
        "id": "6OndwgAYU9sz"
      },
      "source": [
        ""
      ],
      "execution_count": null,
      "outputs": []
    }
  ]
}